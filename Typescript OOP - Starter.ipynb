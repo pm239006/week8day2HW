{
 "cells": [
  {
   "cell_type": "markdown",
   "id": "1644759d",
   "metadata": {},
   "source": [
    "[Object Oriented Programming](#oop)<br>\n",
    "&emsp;[Classes](#classes)<br>\n",
    "&emsp;&emsp;[Read Only Properties](#rop)<br>\n",
    "&emsp;&emsp;[Optional Properties](#op)<br>\n",
    "&emsp;&emsp;[Access Modifiers](#access)<br>\n",
    "&emsp;&emsp;[Declaring Properties in Constructor](#conprop)<br>\n",
    "&emsp;&emsp;[Getters](#getter)<br>\n",
    "&emsp;&emsp;[Setters](#setter)<br>\n",
    "&emsp;&emsp;[Index Signatures](#idxsign)<br>\n",
    "&emsp;&emsp;[Static](#static)<br>\n",
    "&emsp;[Inheritance](#inherit)<br>\n",
    "&emsp;&emsp;[Method Overrides](#methover)<br>\n",
    "&emsp;&emsp;[Override Keyword](#overrride)<br>\n",
    "&emsp;&emsp;[Polymorphism](#polym)<br>\n",
    "&emsp;[Design Patterns](#dp)<br>\n",
    "&emsp;[Abstract Classes](#abs)<br>\n",
    "&emsp;&emsp;[Flying Ducks](#fly)<br>\n",
    "&emsp;&emsp;[Decoy Ducks](#decoy)<br>\n",
    "&emsp;&emsp;[Exercise #1](#ice1)<br>\n",
    "&emsp;[Interfaces](#interfaces)<br>\n",
    "&emsp;&emsp;[Exercise #2](#ice2)<br>\n",
    "&emsp;&emsp;[Rubber Duck / Final Pattern](#rubber)<br>\n",
    "&emsp;&emsp;[More On Polymorphism](#mpoly)<br>\n",
    "&emsp;&emsp;[Programming to Interface](#ptoi)<br>\n",
    "&emsp;&emsp;[Extending Interfaces](#xi)<br>\n",
    "[Generics](#gen)<br>\n",
    "&emsp;[Generic Functions](#gf)<br>\n",
    "&emsp;[Generic Classes](#gc)<br>\n",
    "&emsp;[Multiple Generics](#mg)<br>\n",
    "&emsp;[Generic Interfaces](#gi)<br>\n",
    "&emsp;[Generic Constraints](#gcon)<br>\n",
    "&emsp;[keyof](#keyof)<br>\n",
    "&emsp;[Type Mapping](#typemap)<br>\n",
    "&emsp;[Optional&lt;T&gt;](#optgen)<br>\n",
    "&emsp;[Read Only&lt;T&gt;](#rogen)<br>\n",
    "&emsp;[Built In Utility Classes](#util)<br>\n",
    "[Homework](#hw)<br>\n",
    "\n",
    "\n",
    "\n",
    "\n",
    "\n",
    "\n",
    "\n",
    "\n",
    "\n",
    "\n",
    "\n",
    "\n"
   ]
  },
  {
   "cell_type": "markdown",
   "id": "910c27b6",
   "metadata": {},
   "source": [
    "<a id=\"oop\"></a>\n",
    "# Object Oriented Programming"
   ]
  },
  {
   "cell_type": "markdown",
   "id": "fa6b48ea",
   "metadata": {},
   "source": [
    "Object-oriented programming (OOP) is a programming paradigm that focuses on the organization and manipulation of data as objects, rather than simply processing logic or functions. Good OOP practices involve designing reusable and extensible code by creating classes, interfaces, and abstract classes.\n",
    "\n",
    "While some programming languages like Java are purely OOP, others like Typescript combine OOP principles with scripting capabilities. In OOP, a model is designed to represent a real-life entity, and then that model is used to create different but similar objects. For example, a Car can be considered a model that defines the properties and behaviors of a generic car, and a specific car like a Ford Ranger can be an instance of that model that behaves like all other cars but may have its own unique characteristics."
   ]
  },
  {
   "cell_type": "markdown",
   "id": "becd1b0e",
   "metadata": {},
   "source": [
    "<a id=\"classes\"></a>\n",
    "\n",
    "## Classes"
   ]
  },
  {
   "cell_type": "markdown",
   "id": "1d92e4d7",
   "metadata": {},
   "source": [
    "To define the types of your properties, you write them at the top of the class and then using the `this` keyword you can assign them in the constructor"
   ]
  },
  {
   "cell_type": "code",
   "execution_count": 1,
   "id": "f5ee7e3a",
   "metadata": {},
   "outputs": [
    {
     "name": "stdout",
     "output_type": "stream",
     "text": [
      "Car { make: \u001b[32m'Chevy'\u001b[39m, model: \u001b[32m'Lumina'\u001b[39m, year: \u001b[33m1997\u001b[39m }\n"
     ]
    }
   ],
   "source": [
    "class Car {\n",
    "// define the types of properties \n",
    "    make:string;\n",
    "    model:string;\n",
    "    year: number;\n",
    "\n",
    "    constructor(make:string,model:string,year:number){\n",
    "    // assign properties\n",
    "    this.make = make\n",
    "    this.model = model\n",
    "    this.year = year\n",
    "    }\n",
    "\n",
    "    drive(miles:number):void{\n",
    "    console.log(\"You drove\", miles, \"miles\")\n",
    "}\n",
    "}\n",
    "\n",
    "    let lumina = new Car('Chevy', 'Lumina', 1997)\n",
    "    lumina"
   ]
  },
  {
   "cell_type": "code",
   "execution_count": null,
   "id": "c21d23f4",
   "metadata": {},
   "outputs": [],
   "source": []
  },
  {
   "cell_type": "markdown",
   "id": "98568e5d",
   "metadata": {},
   "source": [
    "<a id=\"rop\"></a>\n",
    "\n",
    "### Read Only Properties"
   ]
  },
  {
   "cell_type": "markdown",
   "id": "7759c095",
   "metadata": {},
   "source": [
    "Since IDs should never change lets make a readonly ID on our Car Class"
   ]
  },
  {
   "cell_type": "markdown",
   "id": "a584c412",
   "metadata": {},
   "source": [
    "class Car{\n",
    "    \n",
    "\n",
    "\n",
    "\n",
    "\n",
    "\n",
    "\n",
    "\n",
    "\n",
    "\n",
    "\n",
    "\n",
    "\n",
    "\n",
    "\n",
    "\n",
    "\n",
    "\n",
    "\n",
    "\n",
    "\n"
   ]
  },
  {
   "cell_type": "code",
   "execution_count": 40,
   "id": "c8ad3704",
   "metadata": {},
   "outputs": [
    {
     "name": "stdout",
     "output_type": "stream",
     "text": [
      "Car { id: \u001b[33m123\u001b[39m, make: \u001b[32m'Chrysler'\u001b[39m, model: \u001b[32m'Pt Cruiser'\u001b[39m, year: \u001b[33m2008\u001b[39m }\n"
     ]
    }
   ],
   "source": [
    "class Car{\n",
    "    //define the types of the properties\n",
    "    readonly id:number\n",
    "    make: string\n",
    "    model: string\n",
    "    year: number\n",
    "    \n",
    "    constructor(id:number, make: string, model: string, year: number){\n",
    "        //assign the properties\n",
    "        this.id=id\n",
    "        this.make=make\n",
    "        this.model=model\n",
    "        this.year=year\n",
    "    }\n",
    "    \n",
    "    drive(miles:Number):void{\n",
    "        console.log(\"You drove \", miles, \"miles\")\n",
    "    }\n",
    "}\n",
    "    \n",
    "\n",
    "let ptCruiser= new Car(123,\"Chrysler\", \"Pt Cruiser\",2008)\n",
    "ptCruiser\n"
   ]
  },
  {
   "cell_type": "markdown",
   "id": "bf661f70",
   "metadata": {},
   "source": [
    "<a id=\"op\"></a>\n",
    "\n",
    "### Optional Properties"
   ]
  },
  {
   "cell_type": "markdown",
   "id": "e22c270c",
   "metadata": {},
   "source": [
    "Lets give the car have an optional nickname like Kitt, or Herbie.  Not every car will have such a cool nickname"
   ]
  },
  {
   "cell_type": "code",
   "execution_count": 120,
   "id": "dc729b95",
   "metadata": {},
   "outputs": [],
   "source": [
    "class Car{\n",
    "    //define the types of the properties\n",
    "    readonly id:number\n",
    "    make: string\n",
    "    model: string\n",
    "    year: number\n",
    "    nickname?: string\n",
    "    \n",
    "    constructor(id:number, make: string, model: string, year: number){\n",
    "        //assign the properties\n",
    "        this.id=id\n",
    "        this.make=make\n",
    "        this.model=model\n",
    "        this.year=year\n",
    "    }\n",
    "    \n",
    "    drive(miles:Number):void{\n",
    "        console.log(\"You drove \", miles, \"miles\")\n",
    "    }\n",
    "}"
   ]
  },
  {
   "cell_type": "code",
   "execution_count": 121,
   "id": "eddfdaa8",
   "metadata": {},
   "outputs": [
    {
     "name": "stdout",
     "output_type": "stream",
     "text": [
      "Car {\n",
      "  id: \u001b[33m1\u001b[39m,\n",
      "  make: \u001b[32m'Mazda'\u001b[39m,\n",
      "  model: \u001b[32m'3'\u001b[39m,\n",
      "  year: \u001b[33m2015\u001b[39m,\n",
      "  nickname: \u001b[90mundefined\u001b[39m\n",
      "}\n"
     ]
    }
   ],
   "source": [
    "let mazda3= new Car(1,\"Mazda\",\"3\",2015)\n",
    "mazda3"
   ]
  },
  {
   "cell_type": "markdown",
   "id": "ec97d010",
   "metadata": {},
   "source": [
    "<a id=\"access\"></a>\n",
    "\n",
    "### Access Control keywords"
   ]
  },
  {
   "cell_type": "markdown",
   "id": "17233b3a",
   "metadata": {},
   "source": [
    "Access Control keywords are used in many languages, and TypeScript uses the most common three `public`, `protected`, `private`.  These access modifiers tell the computer what can access and modify the property/method.\n",
    "\n",
    "`public` -- this property is available  anywhere.  If no access modifier is used, the property defaults to public\n",
    "\n",
    "`protected` -- this property can be used within the class and within the derived classes, but not from outside the class\n",
    "\n",
    "`private`  -- this property can only be used from within the class that declared it.\n",
    "\n",
    "These access modifiers are the key to a concept known and <b>encapsulation</b>. This is basically the idea of data hiding to prevent properties from being modified or used by people/programs that it shouldn't be used by, or to control the modifications of these properties."
   ]
  },
  {
   "cell_type": "markdown",
   "id": "45a2174f",
   "metadata": {},
   "source": [
    "<b>Now</b> Lets assign some private and public access modifiers"
   ]
  },
  {
   "cell_type": "code",
   "execution_count": 122,
   "id": "52683d48",
   "metadata": {},
   "outputs": [
    {
     "name": "stdout",
     "output_type": "stream",
     "text": [
      "The Car id 1 is a \u001b[33m2018\u001b[39m infinity q50 that is called Wallet Drainer\n"
     ]
    }
   ],
   "source": [
    "class Car{\n",
    "    //define the types of the properties\n",
    "    private readonly id:number\n",
    "    public make: string\n",
    "    public model: string\n",
    "    public year: number\n",
    "    public nickname?: string\n",
    "    \n",
    "    constructor(id:number, make: string, model: string, year: number){\n",
    "        //assign the properties\n",
    "        this.id=id\n",
    "        this.make=make\n",
    "        this.model=model\n",
    "        this.year=year\n",
    "    }\n",
    "    \n",
    "    drive(miles:Number):void{\n",
    "        console.log(\"You drove \", miles, \"miles\")\n",
    "    }\n",
    "    \n",
    "    printInfo():void{\n",
    "        console.log(`The Car id ${this.id} is a`,\n",
    "                    this.year,\n",
    "                    this.make,\n",
    "                    this.model,\n",
    "                    this.nickname ? \"that is called \" + this.nickname  : \" that has no cool name\")\n",
    "    }\n",
    "}\n",
    "let infiniti = new Car(1,\"infinity\",\"q50\",2018)\n",
    "infiniti.nickname = \"Wallet Drainer\"\n",
    "\n",
    "infiniti.printInfo()\n"
   ]
  },
  {
   "cell_type": "markdown",
   "id": "2af88485",
   "metadata": {},
   "source": [
    "Private variables cannot be access outside of the class"
   ]
  },
  {
   "cell_type": "code",
   "execution_count": 9,
   "id": "e35ddf06",
   "metadata": {
    "scrolled": true
   },
   "outputs": [
    {
     "name": "stderr",
     "output_type": "stream",
     "text": [
      "1:1 - Cannot find name 'infiniti'. Did you mean 'Infinity'?\n"
     ]
    }
   ],
   "source": [
    "infiniti.id"
   ]
  },
  {
   "cell_type": "markdown",
   "id": "67b02032",
   "metadata": {},
   "source": [
    "<a id=\"conprop\"></a>\n",
    "\n",
    "### Declaring Properties in the Constructor"
   ]
  },
  {
   "cell_type": "markdown",
   "id": "4d8eb6d8",
   "metadata": {},
   "source": [
    "When passing values to our constructor we can give the parameters an access modifier and no longer declare them at the top of the document.  Optional properties will still need to be declared at the top.\n",
    "\n",
    "<b>Note: </b> Like in Python we will name our private properties with an underscore.  This is an older convention and many may argue it is not applicable anymore, often it's replaced with a `$` at the beginning of the variable name, or some custom convention.  Google and Apple style guide chastise the use of the `_` prefix, so in your applications do not use this `_` convention.  For this workbook to make things clear, we will use a prefix of `_` for private variables and a postfix of `$` for protected variables"
   ]
  },
  {
   "cell_type": "code",
   "execution_count": 16,
   "id": "091b369c",
   "metadata": {},
   "outputs": [
    {
     "name": "stdout",
     "output_type": "stream",
     "text": [
      "The car id 2 is a \u001b[33m2006\u001b[39m Hummer H3  this is calledMoney Grabber\n"
     ]
    }
   ],
   "source": [
    "class Car{\n",
    "    public nickname?:string\n",
    "    \n",
    "    constructor(private readonly _id:number,\n",
    "                public make:string,\n",
    "                public model:string,  //defaults to public\n",
    "                public year:number){}  // apply modifiers, types and properties\n",
    "\n",
    "        drive(miles:number):void{\n",
    "        console.log(\"You drove\", miles, \"miles\")\n",
    "    }\n",
    "    printInfo():void{\n",
    "        console.log(`The car id ${this._id} is a`,\n",
    "                   this.year,\n",
    "                   this.make,\n",
    "                   this.model,\n",
    "                   this.nickname ? \" this is called\" + \"\" + this.nickname: \"That doesn't have a nickname\")\n",
    "        \n",
    "    }\n",
    "}\n",
    "\n",
    "let h3 = new Car(2, \"Hummer\", \"H3\",2006)\n",
    "h3.nickname = \"Money Grabber\"\n",
    "\n",
    "h3.printInfo()\n",
    "    \n",
    "\n",
    "\n",
    "\n",
    "\n"
   ]
  },
  {
   "cell_type": "markdown",
   "id": "d0037ac7",
   "metadata": {},
   "source": [
    "<a id=\"getter\"></a>\n",
    "\n",
    "### Getters"
   ]
  },
  {
   "cell_type": "markdown",
   "id": "47f20072",
   "metadata": {},
   "source": [
    "We can access varaibles with a getter.  This helps us encapsulate the property while still allowing view access.  Using getters and setters in your classes is good practice and should always be employed in your classes."
   ]
  },
  {
   "cell_type": "markdown",
   "id": "2a5bc985",
   "metadata": {},
   "source": [
    "In the following example we decided since a car's make and model can not be changed once it is made we will make those properties private, but the nickname of a car can be changed by anyone at anytime so we will make that public."
   ]
  },
  {
   "cell_type": "code",
   "execution_count": 123,
   "id": "10c24e3b",
   "metadata": {},
   "outputs": [],
   "source": [
    "class Car{\n",
    "    constructor(private _make:string, private _model:string, public nickname:string){}\n",
    "    \n",
    "    get make():string{return this._make}\n",
    "    \n",
    "    get model():string{\n",
    "        if (this._model == \"Pt Cruiser\"){\n",
    "            return \"heres a bruiser, pt cruiser. also this car sucks\"\n",
    "        } else {\n",
    "            return this._model\n",
    "        }\n",
    "    }\n",
    "        \n",
    "}\n",
    "\n",
    "let buick = new Car(\"Buick\",\"Park avenue\",\"I forgot the name\")\n",
    "\n"
   ]
  },
  {
   "cell_type": "code",
   "execution_count": 124,
   "id": "2c58c622",
   "metadata": {
    "scrolled": true
   },
   "outputs": [
    {
     "name": "stdout",
     "output_type": "stream",
     "text": [
      "Buick\n"
     ]
    }
   ],
   "source": [
    "// using a getter to grab private variable\n",
    "\n",
    "buick.make"
   ]
  },
  {
   "cell_type": "code",
   "execution_count": 22,
   "id": "0bce2225",
   "metadata": {},
   "outputs": [
    {
     "name": "stdout",
     "output_type": "stream",
     "text": [
      "Park avenue\n"
     ]
    }
   ],
   "source": [
    "buick.model"
   ]
  },
  {
   "cell_type": "code",
   "execution_count": 23,
   "id": "c318cac0",
   "metadata": {},
   "outputs": [
    {
     "name": "stdout",
     "output_type": "stream",
     "text": [
      "I forgot the name\n"
     ]
    }
   ],
   "source": [
    "buick.nickname"
   ]
  },
  {
   "cell_type": "markdown",
   "id": "8873979c",
   "metadata": {},
   "source": [
    "Public properties can be changed from outside the class"
   ]
  },
  {
   "cell_type": "code",
   "execution_count": 24,
   "id": "5e9636f1",
   "metadata": {},
   "outputs": [
    {
     "name": "stdout",
     "output_type": "stream",
     "text": [
      "Ole Bessie\n"
     ]
    }
   ],
   "source": [
    "buick.nickname = \"Ole Bessie\""
   ]
  },
  {
   "cell_type": "code",
   "execution_count": null,
   "id": "048cfe5f",
   "metadata": {},
   "outputs": [],
   "source": []
  },
  {
   "cell_type": "markdown",
   "id": "9a4c43ba",
   "metadata": {},
   "source": [
    "Private Properties can not be accessed outside the class"
   ]
  },
  {
   "cell_type": "code",
   "execution_count": null,
   "id": "769e18e3",
   "metadata": {
    "scrolled": true
   },
   "outputs": [],
   "source": [
    "//error cant directly access private variable\n",
    "buick._make\n"
   ]
  },
  {
   "cell_type": "markdown",
   "id": "e4123377",
   "metadata": {},
   "source": [
    "Public getters can make private variables viewable outside the class"
   ]
  },
  {
   "cell_type": "code",
   "execution_count": 26,
   "id": "0ce0b402",
   "metadata": {},
   "outputs": [
    {
     "name": "stdout",
     "output_type": "stream",
     "text": [
      "Buick\n"
     ]
    }
   ],
   "source": [
    "buick.make"
   ]
  },
  {
   "cell_type": "code",
   "execution_count": 25,
   "id": "f8f0b392",
   "metadata": {},
   "outputs": [
    {
     "name": "stdout",
     "output_type": "stream",
     "text": [
      "Park avenue\n"
     ]
    }
   ],
   "source": [
    "buick.model"
   ]
  },
  {
   "cell_type": "code",
   "execution_count": null,
   "id": "ebc36a39",
   "metadata": {
    "scrolled": true
   },
   "outputs": [],
   "source": []
  },
  {
   "cell_type": "markdown",
   "id": "75bc6bd7",
   "metadata": {},
   "source": [
    "<a id=\"setter\"></a>\n",
    "\n",
    "### Setters"
   ]
  },
  {
   "cell_type": "markdown",
   "id": "393c15cf",
   "metadata": {},
   "source": [
    "If a property is changed we often want to check or process the data that the property is getting changed to.  This makes setters very important.  They will allow us to define what happens when we change our variable.\n",
    "\n",
    "We can even create getters for things that are not properties.\n",
    "\n",
    "<strong>Note: </strong> Do not try and set a return type on a setter"
   ]
  },
  {
   "cell_type": "code",
   "execution_count": 125,
   "id": "60caa0fe",
   "metadata": {},
   "outputs": [
    {
     "name": "stdout",
     "output_type": "stream",
     "text": [
      "Car { _make: \u001b[32m'Jeep'\u001b[39m, _model: \u001b[32m'Compass'\u001b[39m, nickname: \u001b[32m'La Popi'\u001b[39m }\n"
     ]
    }
   ],
   "source": [
    "class Car{\n",
    "    constructor(private _make:string, private _model:string, public nickname:string){}\n",
    "    \n",
    "    get make():string {return this._make}\n",
    "    \n",
    "    get model():string{\n",
    "        //maybe we want to validate that there is a model before we send it back\n",
    "        if(this._model){\n",
    "            return this._model\n",
    "        }else{\n",
    "            return \"No Model Data\"\n",
    "        }\n",
    "    }\n",
    "    \n",
    "    get makeModel():string{\n",
    "        return `${this._make} ${this._model}`\n",
    "    }\n",
    "    \n",
    "    set make(newMake:string){\n",
    "        this._make=newMake\n",
    "    }\n",
    "    \n",
    "    set model(newModel:string){\n",
    "        //Pintos are terrible cars and should never be allowed to exist again\n",
    "        if (newModel && newModel!==\"Pinto\"){\n",
    "            this._model=newModel\n",
    "        }else{\n",
    "            this._model=\"Wrecked\"\n",
    "        }\n",
    "    }\n",
    "}\n",
    "\n",
    "let compass = new Car (\"Jeep\", \"Compass\", \"La Popi\")\n",
    "compass\n",
    "\n",
    "\n"
   ]
  },
  {
   "cell_type": "markdown",
   "id": "d02db854",
   "metadata": {},
   "source": [
    "Setters can allow us to change a private variable, while still letting the class decide how to properly enact the change."
   ]
  },
  {
   "cell_type": "code",
   "execution_count": 126,
   "id": "39f66dc5",
   "metadata": {},
   "outputs": [
    {
     "name": "stdout",
     "output_type": "stream",
     "text": [
      "Car {\n",
      "  _make: \u001b[32m'Chrysler'\u001b[39m,\n",
      "  _model: \u001b[32m'Pt Cruiser'\u001b[39m,\n",
      "  nickname: \u001b[32m'Big Dumb Dumb'\u001b[39m\n",
      "}\n"
     ]
    }
   ],
   "source": [
    "compass.make = \"Chrysler\"\n",
    "compass.model=\"Pt Cruiser\"\n",
    "compass.nickname=\"Big Dumb Dumb\"\n",
    "console.log(compass)"
   ]
  },
  {
   "cell_type": "markdown",
   "id": "380eb8d3",
   "metadata": {},
   "source": [
    "<a id=\"idxsign\"></a>\n",
    "\n",
    "### Index Signatures"
   ]
  },
  {
   "cell_type": "markdown",
   "id": "a6a97c72",
   "metadata": {},
   "source": [
    "Index Signatures allow us to dynamically (after creation) change the properties of our class.  This can be done in JS but in TS you get an error\n",
    "\n",
    "syntax:\n",
    "```\n",
    "[placeHolder:DatatypeOfProperty]:DataTypeContainedInProperty\n",
    "```"
   ]
  },
  {
   "cell_type": "code",
   "execution_count": 127,
   "id": "02387f63",
   "metadata": {},
   "outputs": [
    {
     "name": "stderr",
     "output_type": "stream",
     "text": [
      "2:9 - Property 'year' does not exist on type 'Car'.\n"
     ]
    }
   ],
   "source": [
    "//error //How we do this in JS\n",
    "compass.year=2023"
   ]
  },
  {
   "cell_type": "code",
   "execution_count": 32,
   "id": "c906038f",
   "metadata": {},
   "outputs": [],
   "source": [
    "class PokemonRatings {\n",
    "    [pokemonName: string]: number\n",
    "}\n"
   ]
  },
  {
   "cell_type": "code",
   "execution_count": 35,
   "id": "409f4a50",
   "metadata": {
    "scrolled": true
   },
   "outputs": [
    {
     "name": "stdout",
     "output_type": "stream",
     "text": [
      "PokemonRatings {}\n",
      "PokemonRatings { Charmander: \u001b[33m100\u001b[39m }\n"
     ]
    }
   ],
   "source": [
    "let myRatings = new PokemonRatings()\n",
    "console.log(myRatings)\n",
    "myRatings[\"Charmander\"] = 100\n",
    "console.log(myRatings)\n"
   ]
  },
  {
   "cell_type": "code",
   "execution_count": 36,
   "id": "c8239c24",
   "metadata": {},
   "outputs": [
    {
     "name": "stdout",
     "output_type": "stream",
     "text": [
      "PokemonRatings { Charmander: \u001b[33m100\u001b[39m, Squirtle: \u001b[33m95\u001b[39m }\n"
     ]
    }
   ],
   "source": [
    "myRatings[\"Squirtle\"] = 95\n",
    "console.log(myRatings)"
   ]
  },
  {
   "cell_type": "code",
   "execution_count": 37,
   "id": "48242edf",
   "metadata": {},
   "outputs": [
    {
     "name": "stderr",
     "output_type": "stream",
     "text": [
      "1:1 - Type 'string' is not assignable to type 'number'.\n"
     ]
    }
   ],
   "source": [
    "//error\n",
    "myRatings[\"Bulbasaur\"] = \"Awesome\""
   ]
  },
  {
   "cell_type": "markdown",
   "id": "a7b91fa6",
   "metadata": {},
   "source": [
    "<a id=\"static\"></a>\n",
    "\n",
    "### Static"
   ]
  },
  {
   "cell_type": "markdown",
   "id": "cdd0515f",
   "metadata": {},
   "source": [
    "The `static` keyword denotes that the property maintains its value across all instances, and also must be used without an instance.\n",
    "\n",
    "To access a Static Property we call its by class name. `ClassName.staticProperty`"
   ]
  },
  {
   "cell_type": "code",
   "execution_count": 128,
   "id": "90933070",
   "metadata": {},
   "outputs": [],
   "source": [
    "class Counter{\n",
    "    public static count:number = 0   \n",
    "    \n",
    "    increaseCount():void{\n",
    "        Counter.count++\n",
    "    }\n",
    "    \n",
    "    static showCount():void{\n",
    "        console.log(\"The count is\", Counter.count)\n",
    "    }\n",
    "}\n"
   ]
  },
  {
   "cell_type": "markdown",
   "id": "25e6168b",
   "metadata": {},
   "source": [
    "#### Accessing"
   ]
  },
  {
   "cell_type": "code",
   "execution_count": 129,
   "id": "4c52eb6b",
   "metadata": {},
   "outputs": [
    {
     "name": "stdout",
     "output_type": "stream",
     "text": [
      "\u001b[33m0\u001b[39m\n"
     ]
    }
   ],
   "source": [
    "console.log(Counter.count)"
   ]
  },
  {
   "cell_type": "code",
   "execution_count": 130,
   "id": "0d9c9cd4",
   "metadata": {},
   "outputs": [],
   "source": [
    "let counter1= new Counter()"
   ]
  },
  {
   "cell_type": "code",
   "execution_count": 48,
   "id": "9b51dacc",
   "metadata": {},
   "outputs": [
    {
     "name": "stderr",
     "output_type": "stream",
     "text": [
      "2:10 - Property 'count' does not exist on type 'Counter'. Did you mean to access the static member 'Counter.count' instead?\n"
     ]
    }
   ],
   "source": [
    " // Can not Access\n",
    "counter1.count"
   ]
  },
  {
   "cell_type": "markdown",
   "id": "a6236370",
   "metadata": {},
   "source": [
    "All Members of the Counter class share the same count property!"
   ]
  },
  {
   "cell_type": "code",
   "execution_count": 131,
   "id": "1531cec3",
   "metadata": {},
   "outputs": [
    {
     "name": "stdout",
     "output_type": "stream",
     "text": [
      "The count is \u001b[33m1\u001b[39m\n",
      "The count is \u001b[33m2\u001b[39m\n"
     ]
    }
   ],
   "source": [
    "counter1.increaseCount()\n",
    "Counter.showCount()\n",
    "let counter2=new Counter()\n",
    "counter2.increaseCount()\n",
    "Counter.showCount()\n"
   ]
  },
  {
   "cell_type": "code",
   "execution_count": 133,
   "id": "2471544f",
   "metadata": {},
   "outputs": [
    {
     "name": "stderr",
     "output_type": "stream",
     "text": [
      "2:1 - Cannot find name 'Counter2'. Did you mean 'counter2'?\n"
     ]
    }
   ],
   "source": [
    "//Nope\n",
    "Counter2.showCount()"
   ]
  },
  {
   "cell_type": "code",
   "execution_count": null,
   "id": "da45fa4c",
   "metadata": {},
   "outputs": [],
   "source": []
  },
  {
   "cell_type": "markdown",
   "id": "a0a65a71",
   "metadata": {},
   "source": [
    "<a id=\"inherit\"></a>\n",
    "\n",
    "## Inheritance"
   ]
  },
  {
   "cell_type": "markdown",
   "id": "f9bafbb5",
   "metadata": {},
   "source": [
    "We are going to make a Duck class then define children classes to represent different kinds of ducks.  \n",
    "\n",
    "Here we will use the `protected` access modifier for the first time.  Remember protected means that the child class can access the property, while if it was made private it would not be able to be accessed in the child class\n",
    "\n",
    "<b>Note: </b>In python a class can inherit from multiple classes.  This is not possible in JavaScript/TypeScript.  You can only extend one class in JS/TS this is to prevent the so-called diamond problem (when two extended classes have the same base class).  This is fine and normal in most languages because JS also provides Interfaces and a class can implement many Interfaces (more on interfaces later)"
   ]
  },
  {
   "cell_type": "code",
   "execution_count": 61,
   "id": "37fc921f",
   "metadata": {},
   "outputs": [
    {
     "name": "stdout",
     "output_type": "stream",
     "text": [
      "Duck\n",
      "Quack\n",
      "paddles with its two lil feet\n"
     ]
    }
   ],
   "source": [
    "class Duck{\n",
    "    public static className:string = \"Duck\"\n",
    "    \n",
    "    constructor(protected age$:number){}\n",
    "    \n",
    "    get age():number{\n",
    "        return this.age$\n",
    "    }\n",
    "    public quack():void{\n",
    "        console.log(\"Quack\")\n",
    "    }\n",
    "    public swim():void{\n",
    "        console.log(\"paddles with its two lil feet\")\n",
    "    }\n",
    "\n",
    "}\n",
    "console.log(Duck.className)\n",
    "let daffy = new Duck(39)\n",
    "// console.log(daffy.className) cannot access static properties thru instances of a class\n",
    "//daffy.age$ cannot access protected property outside of a class\n",
    "daffy.age // getter to grab age \n",
    "daffy.quack()\n",
    "daffy.swim()\n",
    "\n"
   ]
  },
  {
   "cell_type": "markdown",
   "id": "4fc302a5",
   "metadata": {},
   "source": [
    "#### In the Child Class"
   ]
  },
  {
   "cell_type": "markdown",
   "id": "f8d79a9b",
   "metadata": {},
   "source": [
    "To inherit from a class in JS/TS we use the extends keyword\n",
    "\n",
    "<b>Note </b> When adding parameters that are part of the parent class we do not add access modifiers"
   ]
  },
  {
   "cell_type": "code",
   "execution_count": 65,
   "id": "b52cd841",
   "metadata": {},
   "outputs": [
    {
     "name": "stdout",
     "output_type": "stream",
     "text": [
      "Mallard Duck\n",
      "Duck\n",
      "\u001b[33m3\u001b[39m\n",
      "Quack\n",
      "paddles with its two lil feet\n",
      "brown\n"
     ]
    }
   ],
   "source": [
    "class MallardDuck extends Duck {\n",
    "    public static className = \"Mallard Duck\"\n",
    "    \n",
    "    constructor(public color:string, age: number){\n",
    "        super(age)\n",
    "    }\n",
    "}\n",
    "\n",
    "let mallard = new MallardDuck(\"brown\",3)\n",
    "console.log(MallardDuck.className)\n",
    "console.log(Duck.className)\n",
    "console.log(mallard.age)\n",
    "mallard.quack()\n",
    "mallard.swim()\n",
    "console.log(mallard.color)\n"
   ]
  },
  {
   "cell_type": "code",
   "execution_count": 66,
   "id": "01b48029",
   "metadata": {
    "scrolled": true
   },
   "outputs": [
    {
     "name": "stderr",
     "output_type": "stream",
     "text": [
      "2:19 - Property 'color' does not exist on type 'Duck'.\n"
     ]
    }
   ],
   "source": [
    "// Duck's don't have a color\n",
    "console.log(daffy.color)"
   ]
  },
  {
   "cell_type": "markdown",
   "id": "acc9211f",
   "metadata": {},
   "source": [
    "### Protected Variables are Accessible in the Child Class"
   ]
  },
  {
   "cell_type": "markdown",
   "id": "da6877ec",
   "metadata": {},
   "source": [
    "Try switching the access modifier on serialNo to `private` and you will see you cannot access it in the Roku class."
   ]
  },
  {
   "cell_type": "code",
   "execution_count": 67,
   "id": "bb0a7c41",
   "metadata": {},
   "outputs": [
    {
     "name": "stdout",
     "output_type": "stream",
     "text": [
      "3ohrow3\n"
     ]
    }
   ],
   "source": [
    "class TV{\n",
    "    constructor (protected serialNo:string){}   //changing to private makes it inaccessible to the child class\n",
    "}\n",
    "\n",
    "class Roku extends TV{\n",
    "    showSerial(){\n",
    "        console.log(this.serialNo)\n",
    "    }\n",
    "}\n",
    "\n",
    "let mytv= new Roku('3ohrow3')\n",
    "mytv.showSerial()"
   ]
  },
  {
   "cell_type": "markdown",
   "id": "8a84af9b",
   "metadata": {},
   "source": [
    "<a id=\"methover\"></a>\n",
    "\n",
    "### Method Overrides"
   ]
  },
  {
   "cell_type": "markdown",
   "id": "c10d5cbe",
   "metadata": {},
   "source": [
    "Now we notice that our mallard makes a generic animal sounds instead of the mallard's quack sound, so we should implement a different way to quack that is specific to mallards, we can do this by overriding the parent class method"
   ]
  },
  {
   "cell_type": "markdown",
   "id": "83b7556a",
   "metadata": {},
   "source": [
    "##### Implicit Overrides"
   ]
  },
  {
   "cell_type": "markdown",
   "id": "6ab1bbb6",
   "metadata": {},
   "source": [
    "If you create a method in a child class with the same name as a method in the parent class, the child class will use the method definition from the child class, this is called a <b>method override</b>  This is done implicitly by the computer.  This is now considered bad practice and it is recommended to always use the `override` keyword (more on that next)"
   ]
  },
  {
   "cell_type": "code",
   "execution_count": 134,
   "id": "767a531f",
   "metadata": {},
   "outputs": [
    {
     "name": "stderr",
     "output_type": "stream",
     "text": [
      "22:9 - Constructors for derived classes must contain a 'super' call.\n",
      "23:13 - 'super' must be called before accessing a property of 'super' in the constructor of a derived class.\n",
      "23:18 - 'super' must be followed by an argument list or member access.\n",
      "unknown msg_type: comm_open\n",
      "unknown msg_type: comm_msg\n"
     ]
    }
   ],
   "source": [
    "class Duck{\n",
    "    public static className:string = \"Duck\";\n",
    "    \n",
    "    constructor(protected age$:number){}\n",
    "    \n",
    "    get age():number{\n",
    "        return this.age$\n",
    "    }\n",
    "    \n",
    "    public quack():void{\n",
    "        console.log(\"Quack\")\n",
    "     }\n",
    "    \n",
    "    public swim():void{\n",
    "        console.log(\"paddles with its two little feet pettetetteet\")\n",
    "     }\n",
    "    }\n",
    "\n",
    "    class MallardDuck extends Duck {\n",
    "        public static className = \"MallardDuck\"\n",
    "\n",
    "        constructor(public color:string, age:number){\n",
    "            super:(age);\n",
    "        }\n",
    "\n",
    "        override get age():number{\n",
    "            // in this case all mallards are 5 years older than ducks\n",
    "            return this.age$ + 5\n",
    "        }\n",
    "\n",
    "        public override quack():void{\n",
    "            console.log(\"Mallard Quack, Weh\")\n",
    "         }\n",
    "        }\n",
    "\n",
    "\n",
    "        let mallard2 = new MallardDuck('green',2);\n",
    "        console.log(MallardDuck.className);\n",
    "        console.log(mallard2.age);\n",
    "        mallard2.swim();\n",
    "        mallard2.quack();\n"
   ]
  },
  {
   "cell_type": "markdown",
   "id": "68834511",
   "metadata": {},
   "source": [
    "<a id=\"override\"></a>\n",
    "##### Explicit Overrides"
   ]
  },
  {
   "cell_type": "markdown",
   "id": "5a7abe90",
   "metadata": {},
   "source": [
    "TS 4.3 they added support for the `override` keyword.  This notebook runs 4.1, so the override keyword will not work.  Without it you get an implicit override, where TS infers you are overriding when you use the same name.\n",
    "\n",
    "The `override` keyword is really useful for when you change your base class and maybe remove a method.  The Child classes with now get an error saying there is no method to override. "
   ]
  },
  {
   "cell_type": "markdown",
   "id": "d1d2df06",
   "metadata": {},
   "source": [
    "Since this notebook does not support the `override` keyword, we will have you checkout this file using StackBlitz\n",
    "\n",
    "[https://stackblitz.com/edit/w9pgd4?file=index.ts](https://stackblitz.com/edit/w9pgd4?file=index.ts)\n",
    "\n",
    "when using this code be sure to open the console (on the bottom right below the browser output)"
   ]
  },
  {
   "cell_type": "markdown",
   "id": "55afc76b",
   "metadata": {},
   "source": [
    "<a id=\"polym\"></a>\n",
    "\n",
    "### Polymorphism"
   ]
  },
  {
   "cell_type": "markdown",
   "id": "c2880118",
   "metadata": {},
   "source": [
    "Polymorphism means having many forms.  What we have learned in TS so far is that you always need to know the datatype of your variables.  And if you say make an array you have to define what is in that array.  \n",
    "\n",
    "What polymorphism says is if one class (say MallardDuck) inherits from a class (say Duck) then every MallardDuck is a Duck. Also, all other Children of the Duck Class (say RedHeadedDuck) are also Ducks; and not to forget that Ducks are also Ducks.  This means we can build an Array&lt;Ducks&gt; and include Ducks, RedHeadedDucks, and Mallard Ducks.\n",
    "    \n",
    "In OOP we often talk about the <b>Open-Closed Principal</b> The open–closed principle states \"software entities (classes, modules, functions, etc.) should be open for extension, but closed for modification\";\n",
    "    \n",
    "Polymorphism is a key way we can help achieve this goal"
   ]
  },
  {
   "cell_type": "markdown",
   "id": "df113605",
   "metadata": {},
   "source": [
    "<b>Lets </b> make another Type of Duck the ReadHeadedDuck"
   ]
  },
  {
   "cell_type": "code",
   "execution_count": 76,
   "id": "eaf6cee9",
   "metadata": {},
   "outputs": [],
   "source": [
    "\n",
    "class Duck {\n",
    "    public static className: string = 'Duck';\n",
    "  \n",
    "    constructor( protected age$: number) {}\n",
    "  \n",
    "    get age():number{\n",
    "      \n",
    "      return this.age$\n",
    "  }\n",
    "  \n",
    "    public quack(): void {\n",
    "      console.log('Generic Quack Sound');\n",
    "    }\n",
    "  \n",
    "    public swim(): void {\n",
    "      console.log('paddles with two little feet');\n",
    "    }\n",
    "  }\n",
    "\n"
   ]
  },
  {
   "cell_type": "code",
   "execution_count": 77,
   "id": "b41781e8",
   "metadata": {},
   "outputs": [],
   "source": [
    "class RedHeadedDuck extends Duck{\n",
    "    public static className = \"RedHeadedDuck\";\n",
    "    \n",
    "    constructor(public color:string, age:number){\n",
    "        super(age)\n",
    "    }\n",
    "    override get age():number {\n",
    "        return this.age$-1\n",
    "    }\n",
    "    public override quack(): void{\n",
    "        console.log(\"RedHead Duck's Quack, HREH\")\n",
    "    }\n",
    "}"
   ]
  },
  {
   "cell_type": "markdown",
   "id": "72aaa5c0",
   "metadata": {},
   "source": [
    "Let’s make an array of Ducks.  Since all Duck Types inherit from Duck we can declare the array and array of Ducks."
   ]
  },
  {
   "cell_type": "code",
   "execution_count": 79,
   "id": "e6c036a2",
   "metadata": {},
   "outputs": [],
   "source": [
    "let duckArray:Duck[] = [\n",
    "    new Duck(7),\n",
    "    new MallardDuck(\"green\", 8),\n",
    "    new RedHeadedDuck(\"purple\",9)\n",
    "]\n",
    "\n",
    "\n",
    "\n",
    "\n"
   ]
  },
  {
   "cell_type": "markdown",
   "id": "c0ee1f5b",
   "metadata": {},
   "source": [
    "Now Lets watch Polymorphism in action\n",
    "\n",
    "This is really cool, because all Ducks are implementing the same behaviors (methods) we can invoke them and get the results from each individual class."
   ]
  },
  {
   "cell_type": "code",
   "execution_count": 80,
   "id": "1062c0a7",
   "metadata": {
    "scrolled": true
   },
   "outputs": [
    {
     "name": "stdout",
     "output_type": "stream",
     "text": [
      "\u001b[33m7\u001b[39m\n",
      "Generic Quack Sound\n",
      "paddles with two little feet\n",
      "\u001b[33m8\u001b[39m\n",
      "Quack\n",
      "paddles with its two lil feet\n",
      "\u001b[33m8\u001b[39m\n",
      "RedHead Duck's Quack, HREH\n",
      "paddles with two little feet\n"
     ]
    }
   ],
   "source": [
    "for (let duck of duckArray){\n",
    "    console.log(duck.age)\n",
    "    duck.quack()\n",
    "    duck.swim()\n",
    "}\n",
    "\n",
    "\n"
   ]
  },
  {
   "cell_type": "markdown",
   "id": "1af58e19",
   "metadata": {},
   "source": [
    "<a id=\"dp\"></a>\n",
    "\n",
    "## OOP Design Patterns"
   ]
  },
  {
   "cell_type": "markdown",
   "id": "3be2806a",
   "metadata": {},
   "source": [
    "There are alot of ways to design systems with classes and Abstract classes and interfaces (more of these last two things coming up)\n",
    "\n",
    "The way you connect your Classes/Interface/Abstract Class make up your Design Pattern.  We are going to walk you through a good OOP design pattern in the next few sections"
   ]
  },
  {
   "cell_type": "markdown",
   "id": "d539b702",
   "metadata": {},
   "source": [
    "<a id=\"abs\"></a>\n",
    "\n",
    "## Abstract Classes"
   ]
  },
  {
   "cell_type": "markdown",
   "id": "8599a057",
   "metadata": {},
   "source": [
    "Our `Duck` Class now has a problem.  We shouldn't be able to create a plain duck.  All Ducks in the world are some variation on the Duck class, but a plain generic Duck should never exist.  This means we shouldn't be able to make a new duck\n",
    "\n",
    "`let duck = Duck(23)` Should not be allowed because this doesn't make logical sense.\n",
    "\n",
    "Don't fear because we have a solution for this.  We will use an `Abstract Class`  An Abstract Class is a class typically without method implementations, or implementations that function the same for all children classes.  In an Abstract class we merely define that a method should exist and that the children classes should define their own implantation..\n",
    "\n",
    "<b>Note: </b> All Abstract methods have a body even if it is empty"
   ]
  },
  {
   "cell_type": "code",
   "execution_count": 82,
   "id": "9c8f03f6",
   "metadata": {},
   "outputs": [],
   "source": [
    "abstract class Duck {\n",
    "    constructor(protected age$:number){}\n",
    "    get age(){return this.age$}\n",
    "    quack(){}\n",
    "    swim(){}\n",
    "}\n"
   ]
  },
  {
   "cell_type": "code",
   "execution_count": 83,
   "id": "4340cc8d",
   "metadata": {},
   "outputs": [
    {
     "name": "stderr",
     "output_type": "stream",
     "text": [
      "2:13 - Cannot create an instance of an abstract class.\n"
     ]
    }
   ],
   "source": [
    "  //Error\n",
    "let aduck = new Duck(12)"
   ]
  },
  {
   "cell_type": "code",
   "execution_count": 89,
   "id": "2f1520ca",
   "metadata": {},
   "outputs": [],
   "source": [
    "class MallardDuck extends Duck {\n",
    "\n",
    "    constructor(public color: string, age: number) {\n",
    "        super(age);\n",
    "    }\n",
    "\n",
    "    get age():number{\n",
    "        // Lets Pretend all Mallards are 5 years old than other ducks\n",
    "        return this.age$ + 5\n",
    "    }\n",
    "\n",
    "    quack(): void {\n",
    "        console.log(\"Mallad's Quack\");\n",
    "    }\n",
    "    \n",
    "    swim():void{\n",
    "        console.log(\"Swimming like a Mallard\")\n",
    "    } \n",
    "}\n",
    "\n",
    "class RedHeadedDuck extends Duck {\n",
    "\n",
    "    constructor(public color: string, age: number) {\n",
    "        super(age);\n",
    "    }\n",
    "\n",
    "    get age():number{\n",
    "        // Lets Pretend all Red Headed Ducks are 1 years younger than other ducks\n",
    "        return this.age$ - 1\n",
    "    }\n",
    "\n",
    "    quack(): void {\n",
    "        console.log(\"Red Headed Duck's Quack\");\n",
    "    }\n",
    "        \n",
    "    swim():void{\n",
    "        console.log(\"Swimming like a RedHeaded Duck\")\n",
    "    } \n",
    "}"
   ]
  },
  {
   "cell_type": "code",
   "execution_count": 92,
   "id": "e955b967",
   "metadata": {},
   "outputs": [
    {
     "name": "stdout",
     "output_type": "stream",
     "text": [
      "\u001b[33m9\u001b[39m\n",
      "Mallad's Quack\n",
      "Swimming like a Mallard\n",
      "\u001b[33m5\u001b[39m\n",
      "Red Headed Duck's Quack\n",
      "Swimming like a RedHeaded Duck\n"
     ]
    }
   ],
   "source": [
    "let aMallard = new MallardDuck(\"green\",4)\n",
    "let aRedHead = new RedHeadedDuck(\"purple\",6)\n",
    "\n",
    "let duckArray:Duck[]=[aMallard, aRedHead]\n",
    "\n",
    "for (let duck of duckArray){\n",
    "    console.log(duck.age)\n",
    "    duck.quack()\n",
    "    duck.swim()\n",
    "}"
   ]
  },
  {
   "cell_type": "markdown",
   "id": "1e0f4f29",
   "metadata": {},
   "source": [
    "<b>What happened with Color?</b>"
   ]
  },
  {
   "cell_type": "markdown",
   "id": "ccf084bf",
   "metadata": {},
   "source": [
    "Lets Try and get the ducks color the same way.\n",
    "\n",
    "when we run the code below we get \n",
    "\n",
    "```Property 'color' does not exist on type 'Duck'.```\n",
    "We know MallardDuck and RedheadedDuck have the property color, but since we are accessing the RedHeaded and Mallard Ducks as a Duck Type (since they are in a array of Ducks not as RedheadedDuck|MallardDuck) we can not use the color property unless it is defined in the parent Abstract class.\n",
    "\n",
    "To fix this we can go back to our base class of `Duck` and add the property `color:string` at the top of our `Duck` class.  Then rerun the cells defining `MallardDuck` and `RedheadedDuck` (to get the new copy of the Duck class) and then rerun the cell below and we should see out expected results"
   ]
  },
  {
   "cell_type": "code",
   "execution_count": 94,
   "id": "3e60585d",
   "metadata": {},
   "outputs": [
    {
     "name": "stderr",
     "output_type": "stream",
     "text": [
      "2:22 - Property 'color' does not exist on type 'Duck'.\n"
     ]
    }
   ],
   "source": [
    "for (let duck of duckArray){\n",
    "    console.log(duck.color)\n",
    "}"
   ]
  },
  {
   "cell_type": "markdown",
   "id": "3f0f47f7",
   "metadata": {},
   "source": [
    "<a id=\"fly\"></a>\n",
    "\n",
    "#### Flying Ducks"
   ]
  },
  {
   "cell_type": "markdown",
   "id": "25746db9",
   "metadata": {},
   "source": [
    "Let's imagine now we are tasked with adding the ability to fly to our ducks.  This will be simple to add a new method to our Abstract base class `Duck` then implement its specific functionality in the children classes `MallardDuck` and `RedHeaded Duck`.  And for simplicity lets remove the color property"
   ]
  },
  {
   "cell_type": "code",
   "execution_count": null,
   "id": "5d2dce16",
   "metadata": {},
   "outputs": [],
   "source": [
    "abstract class Duck{\n",
    "    constructor(protected age$:number){}\n",
    "    get age(){return this.age$}\n",
    "    quack():void{}\n",
    "    swim():void{}\n",
    "    fly():void{}\n",
    "}\n",
    "\n",
    "class MallardDuck extends Duck {\n",
    "\n",
    "    constructor(public color: string, age: number) {\n",
    "        super(age);\n",
    "    }\n",
    "\n",
    "    get age():number{\n",
    "        // Lets Pretend all Mallards are 5 years old than other ducks\n",
    "        return this.age$ + 5\n",
    "    }\n",
    "\n",
    "    quack(): void {\n",
    "        console.log(\"Mallad's Quack\");\n",
    "    }\n",
    "    \n",
    "    swim():void{\n",
    "        console.log(\"Swimming like a Mallard\")\n",
    "    } \n",
    "    fly():void{\n",
    "        console.log(\"Fly like an Mallard Duck\")\n",
    "    }\n",
    "}\n",
    "\n",
    "class RedHeadedDuck extends Duck {\n",
    "\n",
    "    constructor(public color: string, age: number) {\n",
    "        super(age);\n",
    "    }\n",
    "\n",
    "    get age():number{\n",
    "        // Lets Pretend all Red Headed Ducks are 1 years younger than other ducks\n",
    "        return this.age$ - 1\n",
    "    }\n",
    "\n",
    "    quack(): void {\n",
    "        console.log(\"Red Headed Duck's Quack\");\n",
    "    }\n",
    "        \n",
    "    swim():void{\n",
    "        console.log(\"Swimming like a RedHeaded Duck\")\n",
    "    } \n",
    "    fly():void{\n",
    "        console.log(\"Fly like a RedHeaded Duck\")\n",
    "    }\n",
    "}"
   ]
  },
  {
   "cell_type": "markdown",
   "id": "ec2dc503",
   "metadata": {},
   "source": [
    "<a id=\"decoy\"></a>\n",
    "\n",
    "#### Decoy Ducks "
   ]
  },
  {
   "cell_type": "markdown",
   "id": "465f7f65",
   "metadata": {},
   "source": [
    "Okay that was easy enough, but now we are required to make another type of duck, a duck decoy.  Lets Build our `DecoyDuck` class"
   ]
  },
  {
   "cell_type": "code",
   "execution_count": null,
   "id": "5922d89d",
   "metadata": {},
   "outputs": [],
   "source": [
    "class DecoyDuck extends Duck {\n",
    "    constructor(age:number){\n",
    "        super(age)\n",
    "    }\n",
    "    get age():number{\n",
    "        return this.age$\n",
    "    }\n",
    "    quack():void{\n",
    "        console.log(\"I make fake quacks\")\n",
    "    }\n",
    "    swim():void{\n",
    "        console.log(\"I just float here waiting to be courted by other ducks\")\n",
    "    }\n",
    "    fly():void{\n",
    "        \n",
    "        return \n",
    "    }\n",
    "}"
   ]
  },
  {
   "cell_type": "markdown",
   "id": "b6eed0cc",
   "metadata": {},
   "source": [
    "We Have now come across a problem with using the abstract class to derive all our Duck Types.  A Decoy Duck has no implementation of fly, and thus we should not be implementing a fly method on a decoy duck.\n",
    "\n",
    "Never Fear! Interfaces are here!  An Interface lets you define methods that a class needs to implement.  It can also be used as a type."
   ]
  },
  {
   "cell_type": "markdown",
   "id": "35e8bef6",
   "metadata": {},
   "source": [
    "<a id=\"ice1\"></a>\n",
    "\n",
    "## In Class Exercise #1"
   ]
  },
  {
   "cell_type": "markdown",
   "id": "197a19cc",
   "metadata": {},
   "source": [
    "Create a class `Car` and then create 2 car subclasses `SmartCar`, `Truck`.\n",
    "All Cars should be able to `brake` `drive` and `honk`\n",
    "\n",
    "- When a SmartCar drives it makes `hummmm` sound and when it honks it makes a `MMmeep` sound\n",
    "- When a Truck drives it makes a `vrooom` sound and when it honks it makes `BWaaaaaahp`\n",
    "- When a Truck or a SmartCar brakes it makes `squeeel` sound"
   ]
  },
  {
   "cell_type": "code",
   "execution_count": 99,
   "id": "3c84f533",
   "metadata": {},
   "outputs": [
    {
     "name": "stdout",
     "output_type": "stream",
     "text": [
      "hummmm\n",
      "sqeeeaaakkkkkk\n"
     ]
    }
   ],
   "source": [
    "//Solution\n",
    "\n",
    "abstract class Car{\n",
    "    drive():void{}\n",
    "    brake():void{console.log(\"sqeeeaaakkkkkk\")}\n",
    "    honk():void{}\n",
    "}\n",
    "\n",
    "class SmartCar extends Car {\n",
    "\n",
    "    drive(): void {\n",
    "        console.log(\"hummmm\");\n",
    "    }\n",
    "    \n",
    "//     brake():void{\n",
    "//         console.log(\"squeeel\")\n",
    "//     } \n",
    "    honk():void{\n",
    "        console.log(\"MMmeep\")\n",
    "    }\n",
    "}\n",
    "\n",
    "class Truck extends Car {\n",
    "\n",
    "    drive(): void {\n",
    "        console.log(\"vrooom\");\n",
    "    }\n",
    "        \n",
    "//     brake():void{\n",
    "//         console.log(\"squeeel\")\n",
    "//     } \n",
    "    honk():void{\n",
    "        console.log(\"BWaaaaaahp\")\n",
    "    }\n",
    "}\n",
    "\n",
    "\n",
    "let aNewWhip = new SmartCar()\n",
    "aNewWhip.drive()\n",
    "\n",
    "let myTruck = new Truck()\n",
    "myTruck.brake()\n"
   ]
  },
  {
   "cell_type": "markdown",
   "id": "00e0b56e",
   "metadata": {},
   "source": [
    "<a id=\"interfaces\"></a>\n",
    "\n",
    "### Interfaces"
   ]
  },
  {
   "cell_type": "markdown",
   "id": "96edbaa2",
   "metadata": {},
   "source": [
    "Let's redefine our Ducks now using Interfaces. Interfaces are generally names with the suffix `able` because the Interface says anything that implements me is able to do these actions.\n",
    "\n",
    "Interfaces also work with Polymorphism. \n",
    "\n",
    "To say a class uses an interface we use the keyword `implements`\n",
    "\n",
    "A class can implement many interfaces, yet extend only one class.\n",
    "\n",
    "An Interface can enforce many different methods/properties, but in this example we will keep it to one method per interface.  The Age property should belong to all ducks still, so we will keep the Duck base class to hold the age, for these examples we will assume the ducks all age exactly the same, so there will be no need to override the getters for age.\n",
    "\n",
    "<i>Interface vs Type</i>\n",
    "\n",
    "Interfaces and Types are extremely similar in TypeScript and for the most part Interfaces and Types can be used interchangeably in TypeScript.\n",
    "\n",
    "for an in-depth discussion on the differences visit https://www.educba.com/typescript-type-vs-interface/\n",
    "\n",
    "Interfaces are created to say this class will work with anything that needs this interface.  You can think of a CD as an interface.  There are tons of different CDs with different information on them, but they can all be put into a CD player to play there contents.  The CD is an interface that works with a CD Player then different artists can use the CD interface to create there own CDs filled with their own music.\n",
    "\n",
    "\n",
    "<strong>Note </strong> Interfaces do not have method bodies (Abstract classes have method bodies)"
   ]
  },
  {
   "cell_type": "code",
   "execution_count": null,
   "id": "28054abf",
   "metadata": {},
   "outputs": [],
   "source": [
    "abstract class Duck{\n",
    "    constructor(protected age$:number){}\n",
    "    get age(){return this.age$}\n",
    "    quack():void{}\n",
    "    swim():void{}\n",
    "    fly():void{}\n",
    "}"
   ]
  },
  {
   "cell_type": "code",
   "execution_count": 100,
   "id": "aeca7019",
   "metadata": {},
   "outputs": [],
   "source": [
    "abstract class Duck{\n",
    "    constructor(protected age$:number){}\n",
    "    get age(){return this.age$}\n",
    "  \n",
    "}\n",
    "\n",
    "interface Quackable{\n",
    "    quack():void\n",
    "}\n",
    "\n",
    "interface Swimable{\n",
    "    swim():void\n",
    "}\n",
    "interface Flyable{\n",
    "    fly():void\n",
    "}"
   ]
  },
  {
   "cell_type": "code",
   "execution_count": 101,
   "id": "b2138daa",
   "metadata": {},
   "outputs": [],
   "source": [
    "class MallardDuck extends Duck implements Quackable,Swimable,Flyable{\n",
    "    constructor(age:number){\n",
    "        super(age)\n",
    "    }\n",
    "    quack():void{\n",
    "        console.log(\"Mallard Quack\")\n",
    "    }\n",
    "    swim():void{\n",
    "        console.log(\"Mallard Swim\")\n",
    "    }\n",
    "    fly():void{\n",
    "        console.log(\"Fly away home\")\n",
    "    }\n",
    "}"
   ]
  },
  {
   "cell_type": "code",
   "execution_count": 105,
   "id": "587ecbf2",
   "metadata": {},
   "outputs": [],
   "source": [
    "class RedHeadedDuck extends Duck implements Quackable, Swimable,Flyable{\n",
    "    constructor(age:number){\n",
    "        super(age)\n",
    "    }\n",
    "    quack():void{\n",
    "        console.log(\"HREH\")\n",
    "    }\n",
    "    swim():void{\n",
    "        console.log(\"look out for pond sharks little red duck\")\n",
    "    }\n",
    "    fly():void{\n",
    "        console.log(\"I believe I can fly, bc im a red duck\")\n",
    "    }\n",
    "}"
   ]
  },
  {
   "cell_type": "code",
   "execution_count": 103,
   "id": "58bef744",
   "metadata": {},
   "outputs": [],
   "source": [
    "// decoy ducks do not fly, do not implement flyable\n",
    "\n",
    "class DecoyDuck extends Duck implements Quackable,Swimable{\n",
    "     constructor(age:number){\n",
    "        super(age)\n",
    "    }\n",
    "    quack():void{\n",
    "        console.log(\"Fake Quack\")\n",
    "    }\n",
    "    swim():void{\n",
    "        console.log(\"We all float down here\")\n",
    "    }\n",
    "}"
   ]
  },
  {
   "cell_type": "markdown",
   "id": "3e028f5b",
   "metadata": {},
   "source": [
    "We can use the Interface as a type to make an array of all the ducks that Quack"
   ]
  },
  {
   "cell_type": "code",
   "execution_count": 107,
   "id": "4fc873c2",
   "metadata": {},
   "outputs": [
    {
     "name": "stdout",
     "output_type": "stream",
     "text": [
      "Mallard Quack\n",
      "HREH\n",
      "Fake Quack\n"
     ]
    }
   ],
   "source": [
    "let quackingArray:Quackable[] = [\n",
    "    new MallardDuck(5),\n",
    "    new RedHeadedDuck(6),\n",
    "    new DecoyDuck(7)\n",
    "]\n",
    "\n",
    "for (let duck of quackingArray){\n",
    "    //we can do anything a quackable can do \n",
    "    duck.quack()\n",
    "    //console.log(duck.age)\n",
    "}\n",
    "\n",
    "\n",
    "\n",
    "\n",
    "\n",
    "\n",
    "\n",
    "\n"
   ]
  },
  {
   "cell_type": "code",
   "execution_count": 111,
   "id": "0482495d",
   "metadata": {},
   "outputs": [
    {
     "name": "stdout",
     "output_type": "stream",
     "text": [
      "Fly away home\n",
      "I believe I can fly, bc im a red duck\n"
     ]
    }
   ],
   "source": [
    "let flyingArray:Flyable[] = [\n",
    "    new MallardDuck(5),\n",
    "    new RedHeadedDuck(7)\n",
    "    // new DecoyDuck(6) // error bc DecoyDuck does not implement the Flyable interface\n",
    "]\n",
    "\n",
    "for (let duck of flyingArray){\n",
    "    duck.fly()\n",
    "}\n",
    "\n",
    "\n",
    "\n",
    "\n",
    "\n",
    "\n",
    "\n"
   ]
  },
  {
   "cell_type": "code",
   "execution_count": null,
   "id": "f6794d21",
   "metadata": {},
   "outputs": [],
   "source": [
    "\n",
    "\n",
    "\n",
    "\n",
    "\n",
    "\n",
    "\n",
    "\n"
   ]
  },
  {
   "cell_type": "markdown",
   "id": "4d34a346",
   "metadata": {},
   "source": [
    "<a id=\"ice2\"></a>\n",
    "## In Class Exercise #2"
   ]
  },
  {
   "cell_type": "markdown",
   "id": "17ac5b75",
   "metadata": {},
   "source": [
    "Create a Interface Of MusicMedia that states anything implementing it should be able to `play` and create Classes: CD, Tape, Record to implement your interface\n",
    "\n",
    "To implement play:\n",
    "\n",
    "- CDs will print \"Spins and read with Laser\"\n",
    "- Tapes will print \"Magnetic Tape is read\"\n",
    "- Records will print \"Needle reads grooves\""
   ]
  },
  {
   "cell_type": "code",
   "execution_count": null,
   "id": "ddab1fa0",
   "metadata": {},
   "outputs": [],
   "source": [
    "//Solution\n",
    "\n",
    "abstract class MusicMedia {\n",
    "    constructor(protected name$:string){}\n",
    "    get name(){return this.name$}\n",
    "}\n",
    "\n",
    "interface Playable {\n",
    "    play()\n",
    "}\n",
    "\n",
    "class CD extends MusicMedia implements Playable{\n",
    "    constructor(name){super(name)}\n",
    "    play(){\n",
    "        console.log(\"Spins and read with Laser\")\n",
    "    }\n",
    "}\n",
    "\n",
    "class Tape extends MusicMedia implements Playable{\n",
    "    constructor(name){super(name)}\n",
    "    play(){\n",
    "        console.log(\"Magnetic Tape is read\")\n",
    "    }\n",
    "}\n",
    "\n",
    "class Record extends MusicMedia implements Playable{\n",
    "    constructor(name){super(name)}\n",
    "    play(){\n",
    "        console.log(\"Needle reads grooves\")\n",
    "    }\n",
    "}\n",
    "\n",
    "let playableArray:Playable[] = [\n",
    "    new CD('BackSteets Back'),\n",
    "    new Tape('Some old shit'),\n",
    "    new Record('Machine Girl music')\n",
    "]\n",
    "\n",
    "for (let media of playableArray){\n",
    "    media.play()\n",
    "}\n"
   ]
  },
  {
   "cell_type": "markdown",
   "id": "a4ec1618",
   "metadata": {},
   "source": [
    "<a id=\"rubber\"></a>\n",
    "\n",
    "#### Rubber Duck / Final Design"
   ]
  },
  {
   "cell_type": "markdown",
   "id": "fca66013",
   "metadata": {},
   "source": [
    "Lets take this a step futher, because we know we will be making a lot more types of ducks in the future.  Lets now assume a mallard and redheaded duck both quack and fly and swim the same and most ducks will have the same sort of flying and quacking and swimming mechanism.  Decoy ducks still fly, quack, and swim differently.  \n",
    "\n",
    "Now we are tasked with creating a Rubber Ducky.  A Rubber ducky will not be able to fly like our Decoy Duck, It will quack in its own squeaky way, and it will swim like the Decoy duck by floating.\n",
    "\n",
    "This is our final iteration of this Duck Design"
   ]
  },
  {
   "cell_type": "code",
   "execution_count": 113,
   "id": "55165d5f",
   "metadata": {},
   "outputs": [],
   "source": [
    "// interfaces to define method shapes or each class\n",
    "\n",
    "interface Quackable{\n",
    "    quack():void\n",
    "}\n",
    "interface Swimmable{\n",
    "    swim():void\n",
    "}\n",
    "interface Flyable{\n",
    "    fly():void\n",
    "}\n",
    "\n",
    "// classes that implement interfaces\n",
    "class Quacks implements Quackable{\n",
    "    quack(){\n",
    "        console.log(\"Quack\")\n",
    "    }\n",
    "}\n",
    "\n",
    "class Squeaks implements Quackable{\n",
    "    quack(){\n",
    "        console.log(\"Squeak\")\n",
    "    }\n",
    "}\n",
    "class Muted implements Quackable{\n",
    "    quack(){\n",
    "        console.log(\"silence\")\n",
    "    }\n",
    "}\n",
    "class Floats implements Swimmable{\n",
    "    swim(){\n",
    "        console.log(\"Float on\")\n",
    "    }\n",
    "}\n",
    "class Swims implements Swimmable{\n",
    "    swim(){\n",
    "        console.log(\"just keep swimming\")\n",
    "    }\n",
    "}\n",
    "class FlyWithWings implements Flyable{\n",
    "    fly(){\n",
    "        console.log(\"Flies with wings\")\n",
    "    }\n",
    "}\n",
    "class NeverFlies implements Flyable{\n",
    "    fly(){\n",
    "        console.log(\"Im not flying im falling\")\n",
    "    }\n",
    "}\n",
    "abstract class Duck implements Quackable,Swimmable,Flyable{\n",
    "    protected swimAbility$: Swimmable\n",
    "    protected quackAbility$: Quackable\n",
    "    protected flyAbility$: Flyable\n",
    "    \n",
    "    \n",
    "     constructor(protected age$: number){}\n",
    "    \n",
    "    get age(){return this.age$}\n",
    "    \n",
    "    set flyAbility(fa:Flyable){\n",
    "        this.flyAbility$=fa\n",
    "    }\n",
    "      set quackAbility(qa:Quackable){\n",
    "        this.quackAbility$=qa\n",
    "    }\n",
    "    \n",
    "    set swimAbility(sa:Swimmable){\n",
    "        this.swimAbility$=sa\n",
    "    }\n",
    "      \n",
    "    swim():void{\n",
    "        this.swimAbility$.swim()\n",
    "    }\n",
    "    \n",
    "    quack():void{\n",
    "        this.quackAbility$.quack()\n",
    "    }\n",
    "    \n",
    "    fly():void{\n",
    "        this.flyAbility$.fly()\n",
    "    }\n",
    "}\n",
    "class MallardDuck extends Duck {\n",
    "    swimAbility$ = new Swims()\n",
    "    quackAbility$ = new Quacks()\n",
    "    flyAbility$ = new FlyWithWings()\n",
    "}\n",
    "\n",
    "class RedHeadedDuck extends Duck {\n",
    "    swimAbility$ = new Swims()\n",
    "    quackAbility$ = new Quacks()\n",
    "    flyAbility$ = new FlyWithWings()\n",
    "}\n",
    "\n",
    "class RubberDuck extends Duck {\n",
    "    swimAbility$ = new Floats()\n",
    "    quackAbility$ = new Squeaks()\n",
    "    flyAbility$ = new NeverFlies()\n",
    "}\n",
    "\n",
    "class DecoyDuck extends Duck {\n",
    "    swimAbility$ = new Floats()\n",
    "    quackAbility$ = new Muted()\n",
    "    flyAbility$ = new NeverFlies()\n",
    "}\n",
    "\n"
   ]
  },
  {
   "cell_type": "markdown",
   "id": "63a55ff8",
   "metadata": {},
   "source": [
    "<a id=\"mpoly\"></a>\n",
    "\n",
    "### More Polymorphism"
   ]
  },
  {
   "cell_type": "markdown",
   "id": "0af97308",
   "metadata": {},
   "source": [
    "We can now use the parent class of duck to declare all our duck types and expect the all same abilities to work on each instance of duck"
   ]
  },
  {
   "cell_type": "code",
   "execution_count": 114,
   "id": "7432af60",
   "metadata": {},
   "outputs": [
    {
     "name": "stdout",
     "output_type": "stream",
     "text": [
      "Flies with wings\n",
      "just keep swimming\n",
      "Quack\n",
      "Flies with wings\n",
      "just keep swimming\n",
      "Quack\n",
      "Im not flying im falling\n",
      "Float on\n",
      "silence\n",
      "Im not flying im falling\n",
      "Float on\n",
      "Squeak\n"
     ]
    }
   ],
   "source": [
    "//list of instantiated ducks as a type\n",
    "\n",
    "let allDucks:Duck[]=[\n",
    "    new MallardDuck(4),\n",
    "    new RedHeadedDuck(1),\n",
    "    new DecoyDuck(23),\n",
    "    new RubberDuck(34)\n",
    "]\n",
    "\n",
    "for (let duck of allDucks){\n",
    "    duck.fly()\n",
    "    duck.swim()\n",
    "    duck.quack() \n",
    "}\n",
    "\n",
    "\n"
   ]
  },
  {
   "cell_type": "code",
   "execution_count": 116,
   "id": "c49eb0cc",
   "metadata": {},
   "outputs": [],
   "source": [
    "let duck1: Duck = new MallardDuck(4)\n",
    "let duck2: Duck = new RedHeadedDuck(4)\n",
    "let duck3: Duck = new DecoyDuck(4)\n",
    "let duck4: Duck = new RubberDuck(4)\n",
    "\n",
    "\n",
    "\n"
   ]
  },
  {
   "cell_type": "code",
   "execution_count": 117,
   "id": "a34191f0",
   "metadata": {},
   "outputs": [
    {
     "name": "stdout",
     "output_type": "stream",
     "text": [
      "Flies with wings\n",
      "just keep swimming\n",
      "Quack\n",
      "Flies with wings\n",
      "just keep swimming\n",
      "Quack\n",
      "Im not flying im falling\n",
      "Float on\n",
      "silence\n",
      "Im not flying im falling\n",
      "Float on\n",
      "Squeak\n"
     ]
    }
   ],
   "source": [
    "for (let duck of [duck1,duck2,duck3,duck4]){\n",
    "    duck.fly()\n",
    "    duck.swim()\n",
    "    duck.quack()\n",
    "}"
   ]
  },
  {
   "cell_type": "markdown",
   "id": "ba6362fa",
   "metadata": {},
   "source": [
    "We also have the ability to change the implementations with this set up.  Lets make a RubberDuck learn to fly"
   ]
  },
  {
   "cell_type": "code",
   "execution_count": 118,
   "id": "2b2e90c2",
   "metadata": {},
   "outputs": [
    {
     "name": "stdout",
     "output_type": "stream",
     "text": [
      "Flies with wings\n"
     ]
    }
   ],
   "source": [
    "let rubberDucky: Duck = new RubberDuck(34)\n",
    "rubberDucky.flyAbility= new FlyWithWings()\n",
    "rubberDucky.fly()\n",
    "\n"
   ]
  },
  {
   "cell_type": "markdown",
   "id": "f81a9dcd",
   "metadata": {},
   "source": [
    "<a id=\"ptoi\"></a>\n",
    "\n",
    "#### Programming To Interface"
   ]
  },
  {
   "cell_type": "markdown",
   "id": "6349da36",
   "metadata": {},
   "source": [
    "This design can be further improved, but it is a quite flexible design.  What we are learning is the idea of <b>Programming to Interface</b>.  This is the idea could really be stated <b>program to a supertype</b>.  The declared type of the variables should be a supertype, usually an abstract class or interface, so that the objects assiged to those variables can be of any concrete implementation of the supertype, which means the decalring class doesn't have to know about the object types! "
   ]
  },
  {
   "cell_type": "markdown",
   "id": "30151a8c",
   "metadata": {},
   "source": [
    "<a id=\"xi\"></a>\n",
    "\n",
    "### Extending Interfaces"
   ]
  },
  {
   "cell_type": "markdown",
   "id": "dc69d9ac",
   "metadata": {},
   "source": [
    "An interface can also be used alot like a type.  The main difference here is an interface describes the object while a type defines the object.  \n",
    "\n",
    "In TypeScript, We can even extend interfaces with the extends keyword."
   ]
  },
  {
   "cell_type": "code",
   "execution_count": 119,
   "id": "ff623c9d",
   "metadata": {},
   "outputs": [
    {
     "name": "stdout",
     "output_type": "stream",
     "text": [
      "{\n",
      "  firstName: \u001b[32m'Joe'\u001b[39m,\n",
      "  lastName: \u001b[32m'Biden'\u001b[39m,\n",
      "  zip: \u001b[33m75791\u001b[39m,\n",
      "  lastPost: \u001b[35m2023-09-19T20:46:16.521Z\u001b[39m,\n",
      "  posts: [\n",
      "    { title: \u001b[32m'I am the President'\u001b[39m, body: \u001b[32m'Thanks for Electing Me'\u001b[39m },\n",
      "    { title: \u001b[32m'I am Actually Awake'\u001b[39m, body: \u001b[32m'I swear I am not sleeping'\u001b[39m }\n",
      "  ]\n",
      "}\n"
     ]
    }
   ],
   "source": [
    "interface Human{\n",
    "    firstName:string\n",
    "    lastName:string\n",
    "    zip:number\n",
    "}\n",
    "\n",
    "type Post={\n",
    "    title:string,\n",
    "    body: string\n",
    "}\n",
    "\n",
    "interface Poster extends Human{\n",
    "    posts:Post[],\n",
    "    lastPost:Date\n",
    "}\n",
    "\n",
    "let myUser:Poster={\n",
    "    firstName:\"Joe\",\n",
    "    lastName:\"Biden\",\n",
    "    zip:75791,\n",
    "    lastPost:new Date(),\n",
    "    posts:[\n",
    "        {title:\"I am the President\", body:\"Thanks for Electing Me\"},\n",
    "        {title:\"I am Actually Awake\", body:\"I swear I am not sleeping\"},\n",
    "          ]\n",
    "}\n",
    "\n",
    "\n",
    "myUser\n",
    "\n"
   ]
  },
  {
   "cell_type": "markdown",
   "id": "f9ccb324",
   "metadata": {},
   "source": [
    "<a id=\"gen\"></a>\n",
    "\n",
    "# Generics"
   ]
  },
  {
   "cell_type": "markdown",
   "id": "dc53bdb4",
   "metadata": {},
   "source": [
    "Sometimes we want to allow for all sorts of types for our variables.  We know using an `any` type is bad practice, so how can we accomplish this?  With the use of Generics!"
   ]
  },
  {
   "cell_type": "markdown",
   "id": "8a7ed16e",
   "metadata": {},
   "source": [
    "\n",
    "<a id=\"gf\"></a>\n",
    "### Generic Functions"
   ]
  },
  {
   "cell_type": "markdown",
   "id": "bb7b8e76",
   "metadata": {},
   "source": [
    "To create a generic function we will append the class name with `<` `placeholder to represent any type` `>` and we type the parameters with the placeholder.\n",
    "\n",
    "\n",
    "This is very similar to how this is done in C++.\n",
    "\n",
    "You will often see the placeholder labeled as `T` this stands for Template Class, but you can use anything you want here, but I would keep it to a single letter.\n",
    "\n",
    "When calling the function we can gernally just use our argument like normal, but if for some reason the compiler is unsure of our type we can append  `<` `Generic Type Placeholder` `>` after the name of the function"
   ]
  },
  {
   "cell_type": "code",
   "execution_count": null,
   "id": "c695dce8",
   "metadata": {},
   "outputs": [],
   "source": [
    "function genericFunction<T>(myGenericVar:T){\n",
    "        if (typeof myGenericVar ==\"string\"){\n",
    "            console.log(\"We Got a String Here\")\n",
    "        }else if (typeof myGenericVar ==\"number\"){\n",
    "            console.log(\"We got a Number here\")\n",
    "        }else{\n",
    "            console.log(\"We got something thats not a String or Number\")\n",
    "        }\n",
    "}\n",
    "\n",
    "genericFunction<string>(\"a String\")\n",
    "genericFunction(\"a String\")\n",
    "genericFunction(123)\n",
    "genericFunction(true)"
   ]
  },
  {
   "cell_type": "markdown",
   "id": "80ced257",
   "metadata": {},
   "source": [
    "<a id=\"gc\"></a>\n",
    "\n",
    "### Generic Classes"
   ]
  },
  {
   "cell_type": "markdown",
   "id": "3a63bbfa",
   "metadata": {},
   "source": [
    "To create a generic class we will append the class name with `<` `placeholder to represent any type` `>` and we type the parameters with the placeholder.\n"
   ]
  },
  {
   "cell_type": "code",
   "execution_count": null,
   "id": "211605b9",
   "metadata": {},
   "outputs": [],
   "source": [
    "class GenericTestClass<T>{\n",
    "    constructor(private myGenericVar:T){}\n",
    "    \n",
    "    get tType():string{\n",
    "        return typeof this.myGenericVar\n",
    "    }\n",
    "    \n",
    "    receiveTType<T>(tParam):string{\n",
    "        return typeof tParam\n",
    "    }\n",
    "    \n",
    "    useTType(){\n",
    "        if (typeof this.myGenericVar ==\"string\"){\n",
    "            console.log(\"We Got a String Here\")\n",
    "        }else if (typeof this.myGenericVar ==\"number\"){\n",
    "            console.log(\"We got a Number here\")\n",
    "        }else{\n",
    "            console.log(\"We got something thats not a String or Number\")\n",
    "        }\n",
    "        \n",
    "    }\n",
    "    \n",
    "    \n",
    "}\n",
    "\n"
   ]
  },
  {
   "cell_type": "code",
   "execution_count": null,
   "id": "679e8b57",
   "metadata": {},
   "outputs": [],
   "source": [
    "let gtc1 = new GenericTestClass<string>(\"Random String\")\n",
    "console.log(gtc1.tType)\n",
    "console.log(gtc1.receiveTType(\"Works\"))\n",
    "// gtc.receiveType(100) //Doesn't work\n",
    "gtc1.useTType()"
   ]
  },
  {
   "cell_type": "code",
   "execution_count": null,
   "id": "fb6424dd",
   "metadata": {},
   "outputs": [],
   "source": [
    "let gtc2 = new GenericTestClass<number>(123_456_789)\n",
    "console.log(gtc2.tType)\n",
    "console.log(gtc2.receiveTType(100))\n",
    "// gtc2.receiveTType(\"doesn't work\") //Doesn't work\n",
    "gtc2.useTType()\n",
    "\n"
   ]
  },
  {
   "cell_type": "code",
   "execution_count": null,
   "id": "8f14dd0e",
   "metadata": {},
   "outputs": [],
   "source": [
    "let gtc3 = new GenericTestClass<number[]>([1,2,3,4])\n",
    "console.log(gtc3.tType)\n",
    "console.log(gtc3.receiveTType([100,200,300]))\n",
    "// gtc3.receiveTType(\"doesn't work\") //Doesn't work\n",
    "gtc3.useTType()\n"
   ]
  },
  {
   "cell_type": "markdown",
   "id": "fd86d562",
   "metadata": {},
   "source": [
    "<a id=\"mg\"></a>\n",
    "\n",
    "### Multiple Generics"
   ]
  },
  {
   "cell_type": "code",
   "execution_count": null,
   "id": "714e3824",
   "metadata": {},
   "outputs": [],
   "source": [
    "class KeyValuePair<K,V>{\n",
    "    constructor(public key:K, public value:V){}\n",
    "    \n",
    "    doSomething():void{\n",
    "        console.log(\n",
    "            `${this.key} is of type ${typeof this.key},`,\n",
    "            `${this.value}  is of type ${typeof this.value}`)\n",
    "    }\n",
    "}\n",
    "\n",
    "let kyp1=new KeyValuePair<number, string>(123,\"what\")\n",
    "kyp1.doSomething()\n",
    "\n",
    "\n",
    "let kyp2=new KeyValuePair<number[], boolean>([1,2,3,4],true)\n",
    "kyp2.doSomething()"
   ]
  },
  {
   "cell_type": "markdown",
   "id": "773d4a1e",
   "metadata": {},
   "source": [
    "<a id=\"gi\"></a>\n",
    "\n",
    "### Generic Interfaces"
   ]
  },
  {
   "cell_type": "markdown",
   "id": "d53dac1e",
   "metadata": {},
   "source": [
    "The following code will error when ran.  Be sure to use the autocomplete to see the effect of generics."
   ]
  },
  {
   "cell_type": "code",
   "execution_count": null,
   "id": "8ac7c9df",
   "metadata": {},
   "outputs": [],
   "source": [
    "interface Guest{\n",
    "    roomNumber:number\n",
    "}\n",
    "\n",
    "interface Room{\n",
    "    noOfBeds:number\n",
    "}\n",
    "\n",
    "interface Query<T>{\n",
    "    data:T|null,\n",
    "    error:string|null\n",
    "}\n",
    "\n",
    "function getUserOrRoom<T>():Query<T>{\n",
    "    //logic to get a User or a Room\n",
    "    \n",
    "    //This will cause an Error running this cell because \n",
    "    //we are returning data as null and not something of type T\n",
    "    // but if this was a real API call this would return data as Type T\n",
    "    return {data:null, error:null}\n",
    "}\n",
    "\n",
    "// Try using the tab's autocomplete here after data. \n",
    "// to see that our options are retricted to members of the T interface\n",
    "getUserOrRoom<Guest>().data.roomNumber\n",
    "\n",
    "getUserOrRoom<Room>().data.noOfBeds\n",
    "\n"
   ]
  },
  {
   "cell_type": "markdown",
   "id": "6ebd51fd",
   "metadata": {},
   "source": [
    "<a id=\"gcon\"></a>\n",
    "\n",
    "### Generic Constraints"
   ]
  },
  {
   "cell_type": "markdown",
   "id": "ead2164b",
   "metadata": {},
   "source": [
    "Maybe we want to write a generic function that works with all ducks that extend the `Quacks` ability class we created earlier.  We can do this by saying `T extends Quacks`"
   ]
  },
  {
   "cell_type": "code",
   "execution_count": null,
   "id": "fce0c6aa",
   "metadata": {},
   "outputs": [],
   "source": [
    "function talkToDucks<T extends Quacks>(duck:T ){\n",
    "    duck.quack()\n",
    "}\n",
    "talkToDucks(new MallardDuck(23))\n",
    "talkToDucks(new DecoyDuck(23))\n",
    "talkToDucks(new RubberDuck(23))\n",
    "\n",
    "// talkToDucks(\"Plucky Duck\")  // Error"
   ]
  },
  {
   "cell_type": "markdown",
   "id": "4506b01e",
   "metadata": {},
   "source": [
    "<a id=\"keyof\"></a>\n",
    "\n",
    "### keyof"
   ]
  },
  {
   "cell_type": "markdown",
   "id": "1ab83d2e",
   "metadata": {},
   "source": [
    "Sometime we need to work with the keys of an object, and if any string is allowed TypeScript could give us and Error (We won't go into these circumstances for brevity), so the `keyof` Operator restricts our options only to valid keys"
   ]
  },
  {
   "cell_type": "code",
   "execution_count": null,
   "id": "90553670",
   "metadata": {},
   "outputs": [],
   "source": [
    "interface Item {\n",
    "    id: number,\n",
    "    name:string;\n",
    "    price:number; \n",
    "}\n",
    "\n",
    "let property:keyof Item;\n",
    "// Same as\n",
    "// let property:'name'|'price'|'id';\n",
    "\n",
    "property = 'name';\n",
    "property = 'id';\n",
    "\n",
    "// property = 'otherValue'; // Error not a key of Product"
   ]
  },
  {
   "cell_type": "markdown",
   "id": "7490bba5",
   "metadata": {},
   "source": [
    "<a id=\"typemap\"></a>\n",
    "\n",
    "### Type Mapping"
   ]
  },
  {
   "cell_type": "markdown",
   "id": "ca595a1a",
   "metadata": {},
   "source": [
    "Imagine we have an interface and all the properties are required.  Now lets imagine we need another version of this interface that allow all the properties to be optional.  We still need our original Required Interface, so we can't edit that and make the properties optional.  We could create a second Interface will all the same properties and make them optional.  This make a ton of work for us to maintain the interface because now we have to add properties in two locations.  The Solution for this is <b>Type Mapping</b>\n",
    "\n",
    "This will take use of two tools we have already learned `keyof` and <b>Type Signatures</b>"
   ]
  },
  {
   "cell_type": "markdown",
   "id": "cdf744f4",
   "metadata": {},
   "source": [
    "<a id=\"optgen\"></a>\n",
    "\n",
    "### Optional&lt;T&gt;"
   ]
  },
  {
   "cell_type": "code",
   "execution_count": null,
   "id": "42f0b164",
   "metadata": {},
   "outputs": [],
   "source": [
    "// Everything in the garage interface is required\n",
    "interface Garage{\n",
    "    noOfCars:number,\n",
    "    doorType:string,\n",
    "    heated:boolean\n",
    "}\n",
    "\n",
    "//Type Mapping works by creating a type not interface\n",
    "// It uses Type Signatures along with keyof\n",
    "// remember a ? at the end makes something optional\n",
    "type OptionalGarage={\n",
    "    [Key in keyof Garage]?:Garage[Key]\n",
    "}\n",
    "\n",
    "let myGarage1:OptionalGarage={\n",
    "    noOfCars:12\n",
    "}\n",
    "myGarage1"
   ]
  },
  {
   "cell_type": "markdown",
   "id": "86d05f8b",
   "metadata": {},
   "source": [
    "<a id=\"rogen\"></a>\n",
    "\n",
    "### ReadOnly&lt;T&gt;"
   ]
  },
  {
   "cell_type": "markdown",
   "id": "8390aa0f",
   "metadata": {},
   "source": [
    "This will only work for Garage types, but with generics we can make this work for any type.  Instead of making it optional this time lets make it Read Only"
   ]
  },
  {
   "cell_type": "code",
   "execution_count": 155,
   "id": "7060c349",
   "metadata": {},
   "outputs": [],
   "source": [
    "type ReadOnly<T>={\n",
    "    readonly [Key in keyof T]:T[Key]\n",
    "}\n",
    "\n",
    "interface ShopItem{\n",
    "    id:number,\n",
    "    title:string,\n",
    "    price:number\n",
    "}\n",
    "\n",
    "let myShopItem: ReadOnly<ShopItem> ={\n",
    "    id:187,\n",
    "    title: \"SuperSoaker 9000\",\n",
    "    price: 89.99\n",
    "}\n",
    "\n"
   ]
  },
  {
   "cell_type": "code",
   "execution_count": null,
   "id": "609fe0d6",
   "metadata": {},
   "outputs": [],
   "source": [
    "// myShopItem.id=199\n",
    "//- Cannot assign to 'id' because it is a read-only property."
   ]
  },
  {
   "cell_type": "markdown",
   "id": "f3bad45f",
   "metadata": {},
   "source": [
    "<a id=\"util\"></a>\n",
    "\n",
    "### Built in Utility Types"
   ]
  },
  {
   "cell_type": "markdown",
   "id": "1420aa0b",
   "metadata": {},
   "source": [
    "The good news is we don't have to write this code normally because TypeScript provides a whole library of these utility types.\n",
    "\n",
    "[https://www.typescriptlang.org/docs/handbook/utility-types.html](https://www.typescriptlang.org/docs/handbook/utility-types.html)"
   ]
  },
  {
   "cell_type": "code",
   "execution_count": 156,
   "id": "3b8a3f57",
   "metadata": {},
   "outputs": [
    {
     "name": "stderr",
     "output_type": "stream",
     "text": [
      "4:8 - This expression is not callable.\n",
      "4:8 - Type 'String' has no call signatures.\n"
     ]
    }
   ],
   "source": [
    "let myShop: Partial<ShopItem> = {\n",
    "    title: \"Fire Emblem Sacred Stones\"\n",
    "}\n",
    "myShop.title()"
   ]
  },
  {
   "cell_type": "markdown",
   "id": "50c06538",
   "metadata": {},
   "source": [
    "<a id=\"hw\"></a>\n",
    "\n",
    "## Homework"
   ]
  },
  {
   "cell_type": "markdown",
   "id": "b45b6bd2",
   "metadata": {},
   "source": [
    "Design a flexible OOP system to describe characters in a RPG game\n",
    "\n",
    "There are 4 Unique Characters which use Different Types of Attacking mechanisms and Defending mechanisms.\n",
    "\n",
    "- Orges - fights with club and defends with shield\n",
    "- Peons - fights with club and defends with shield\n",
    "- Knights - fights with a Sword and defends with Armor\n",
    "- Archer - fights with Bow and Arrow and has only is tunic to protect them\n",
    "\n",
    "- All Characters can collect gold and this will always be the same for every new type of character\n",
    "\n",
    "At the end of this each character should be able to attack and defend and collect gold. If needed any character should be able to change his fighting style, say if a knight losing his sword, but finds a club he should be able to change his fighting mechanism to use the club\n",
    "\n",
    "<b>Hint: </b> To complete this assignment you will need multiple classes and interfaces and an Abstract class\n",
    "\n",
    "You can use our [Final Rubber Ducky Walkthrough](#rubber) example as a guide "
   ]
  },
  {
   "cell_type": "code",
   "execution_count": 191,
   "id": "34f42c98",
   "metadata": {},
   "outputs": [
    {
     "name": "stdout",
     "output_type": "stream",
     "text": [
      "\n",
      "congrats! you have collected some gold\n",
      "throw club\n",
      "blocked using shield\n",
      "congrats! you have collected some gold\n",
      "throw sword\n",
      "defended with armor\n",
      "congrats! you have collected some gold\n",
      "aim & shoot bow and arrow\n",
      "defended with tunic\n",
      "congrats! you have collected some gold\n",
      "throw club\n",
      "blocked using shield\n"
     ]
    }
   ],
   "source": [
    "interface Fightable{\n",
    "    fight():void\n",
    "}\n",
    "\n",
    "interface Defendable{\n",
    "    defend():void\n",
    "}\n",
    "\n",
    "interface Collectable{\n",
    "    collect():void\n",
    "}\n",
    "\n",
    "\n",
    "class Sword implements Fightable{\n",
    "    fight(){\n",
    "        console.log(\"throw sword\")\n",
    "    }\n",
    "}\n",
    "\n",
    "class bowArrow implements Fightable{\n",
    "    fight(){\n",
    "        console.log(\"aim & shoot bow and arrow\")\n",
    "    }\n",
    "}\n",
    "\n",
    "class Club implements Fightable{\n",
    "    fight(){\n",
    "        console.log(\"throw club\")\n",
    "    }\n",
    "}\n",
    "\n",
    "class Shield implements Defendable{\n",
    "    defend(){\n",
    "        console.log(\"blocked using shield\")\n",
    "    }\n",
    "}\n",
    "\n",
    " class Armor implements Defendable{\n",
    "    defend(){\n",
    "        console.log(\"defended with armor\")\n",
    "    }\n",
    "}\n",
    "\n",
    "class Tunic implements Defendable{\n",
    "    defend(){\n",
    "        console.log(\"defended with tunic\")\n",
    "    }\n",
    "}\n",
    "\n",
    "class Gold implements Collectable{\n",
    "    collect(){\n",
    "        console.log(\"congrats! you have collected some gold\")\n",
    "    }\n",
    "}\n",
    "\n",
    "abstract class VgCharacter implements Fightable,Defendable,Collectable{\n",
    "    protected fightAbility$: Fightable\n",
    "    protected defendAbility$: Defendable\n",
    "    protected collectAbility$: Collectable\n",
    "//     protected className$: string\n",
    "    \n",
    "    constructor(protected name$: string){}\n",
    "    \n",
    "    get name(){return this.name$}\n",
    "    \n",
    "    \n",
    "    set fightAbility(Fi:Fightable){\n",
    "        this.fightAbility$ = Fi\n",
    "    }\n",
    "    \n",
    "    set defendAbility(De:Defendable){\n",
    "        this.defendAbility$ = De\n",
    "    }\n",
    "    \n",
    "    set collectAbility(Co:Collectable){\n",
    "        this.collectAbility$ = Co\n",
    "    }\n",
    "    \n",
    "     fight():void{\n",
    "        this.fightAbility$.fight()\n",
    "    }\n",
    "    \n",
    "    \n",
    "    defend():void{\n",
    "        this.defendAbility$.defend()\n",
    "    }\n",
    "    \n",
    "    collect():void{\n",
    "        this.collectAbility$.collect()\n",
    "    }\n",
    "}\n",
    "\n",
    "class Ogre extends VgCharacter {\n",
    "    fightAbility$ = new Club()\n",
    "    defendAbility$ = new Shield()\n",
    "    collectAbility$ = new Gold()\n",
    "    className$ = \"Ogre\"\n",
    "\n",
    "}\n",
    "\n",
    "class Peon extends VgCharacter {\n",
    "    fightAbility$ = new Club()\n",
    "    defendAbility$ = new Shield()\n",
    "    collectAbility$ = new Gold()\n",
    "    className$ = \"Peon\"\n",
    "}\n",
    "\n",
    "class Knight extends VgCharacter {\n",
    "    fightAbility$ = new Sword()\n",
    "    defendAbility$ = new Armor()\n",
    "    collectAbility$ = new Gold()\n",
    "    className$ = \"Knight\"\n",
    "}\n",
    "\n",
    "class Archer extends VgCharacter {\n",
    "    fightAbility$ = new bowArrow()\n",
    "    defendAbility$ = new Tunic()\n",
    "    collectAbility$ = new Gold()\n",
    "    className$ = \"Archer\"\n",
    "}\n",
    "\n",
    "\n",
    "let VgCharacter1: VgCharacter = new Ogre(\"Shrek\")\n",
    "let VgCharacter2: VgCharacter = new Knight(\"Dark Horse\")\n",
    "let VgCharacter3: VgCharacter = new Archer(\"Robin Hood\")\n",
    "let VgCharacter4: VgCharacter = new Peon(\"Boots\")\n",
    "\n",
    "console.log(``)\n",
    "\n",
    "\n",
    "\n",
    "\n",
    "let allVgCharacters:VgCharacter[]=[\n",
    "    new Ogre(\"Shrek\"),\n",
    "    new Knight(\"Dark Horse\"),\n",
    "    new Archer(\"Robin Hood\"),\n",
    "    new Peon(\"Boots\")\n",
    "]\n",
    "\n",
    "for (let VgCharacter of allVgCharacters){\n",
    "    VgCharacter.collect()\n",
    "    VgCharacter.fight()\n",
    "    VgCharacter.defend()\n",
    "\n",
    "\n",
    "}"
   ]
  },
  {
   "cell_type": "code",
   "execution_count": null,
   "id": "cd9097be",
   "metadata": {},
   "outputs": [],
   "source": []
  }
 ],
 "metadata": {
  "kernelspec": {
   "display_name": "TypeScript",
   "language": "typescript",
   "name": "tslab"
  },
  "language_info": {
   "codemirror_mode": {
    "mode": "typescript",
    "name": "javascript",
    "typescript": true
   },
   "file_extension": ".ts",
   "mimetype": "text/typescript",
   "name": "typescript",
   "version": "3.7.2"
  }
 },
 "nbformat": 4,
 "nbformat_minor": 5
}
